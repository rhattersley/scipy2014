{
 "metadata": {
  "name": "",
  "signature": "sha256:c824bb82d00c671192bd2744f98517bbe8613a14ae3cb2f76c3d35732f9d50f8"
 },
 "nbformat": 3,
 "nbformat_minor": 0,
 "worksheets": [
  {
   "cells": [
    {
     "cell_type": "code",
     "collapsed": false,
     "input": [
      "# Get access to some basic libraries and define a function to help\n",
      "# describe the number of bytes involved.\n",
      "import netCDF4\n",
      "import numpy as np\n",
      "\n",
      "def size(thing):\n",
      "    n_bytes = np.product(thing.shape) * thing.dtype.itemsize\n",
      "    if n_bytes < 1024 * 1024 * 1024:\n",
      "        return '{:.02f} MB'.format(n_bytes / 1024 / 1024.)\n",
      "    else:\n",
      "        return '{:.02f} GB'.format(n_bytes / 1024 / 1024 / 1024.)"
     ],
     "language": "python",
     "metadata": {},
     "outputs": []
    },
    {
     "cell_type": "heading",
     "level": 2,
     "metadata": {},
     "source": [
      "Start with some data"
     ]
    },
    {
     "cell_type": "code",
     "collapsed": false,
     "input": [
      "# \"Load\" a time-series of a simple global grid.\n",
      "# (t: 52560, y: 145, x: 192)\n",
      "# NB. Even with the Python netCDF4 interface this doesn't\n",
      "# actually load the numbers until requested.\n",
      "path = '/data/local/ithr/biggus/tas0.nc'\n",
      "t0 = netCDF4.Dataset(path).variables['tas']\n",
      "\n",
      "print t0.shape\n",
      "print size(t0)"
     ],
     "language": "python",
     "metadata": {},
     "outputs": []
    },
    {
     "cell_type": "code",
     "collapsed": false,
     "input": [
      "# Indexing into the variable returns the actual numbers.\n",
      "t0[:5, 10, 20]"
     ],
     "language": "python",
     "metadata": {},
     "outputs": []
    },
    {
     "cell_type": "heading",
     "level": 2,
     "metadata": {},
     "source": [
      "Wrap it up with biggus"
     ]
    },
    {
     "cell_type": "code",
     "collapsed": false,
     "input": [
      "# Convert our `t0` netCDF variable into a biggus Array.\n",
      "import biggus\n",
      "b0 = biggus.OrthoArrayAdapter(t0)\n",
      "print b0"
     ],
     "language": "python",
     "metadata": {},
     "outputs": []
    },
    {
     "cell_type": "code",
     "collapsed": false,
     "input": [
      "# Unlike the netCDF interface, the result of indexing is\n",
      "# just another biggus Array.\n",
      "b0[:5, 10, 20]"
     ],
     "language": "python",
     "metadata": {},
     "outputs": []
    },
    {
     "cell_type": "code",
     "collapsed": false,
     "input": [
      "# To get the actual numbers we explicitly call `ndarray()`.\n",
      "b0[:5, 10, 20].ndarray()"
     ],
     "language": "python",
     "metadata": {},
     "outputs": []
    },
    {
     "cell_type": "heading",
     "level": 2,
     "metadata": {},
     "source": [
      "Getting bigger..."
     ]
    },
    {
     "cell_type": "code",
     "collapsed": false,
     "input": [
      "# Get a second array from a different file.\n",
      "# (NB. We could use *any* file format here.)\n",
      "path = '/data/local/ithr/biggus/tas1.nc'\n",
      "t1 = netCDF4.Dataset(path).variables['tas']\n",
      "b1 = biggus.OrthoArrayAdapter(t1)\n",
      "print b1\n",
      "print size(b1)"
     ],
     "language": "python",
     "metadata": {},
     "outputs": []
    },
    {
     "cell_type": "code",
     "collapsed": false,
     "input": [
      "# Stick the two arrays \"end to end\" to double the length\n",
      "# of the time-series.\n",
      "# This is a \"lazy\" operation so no numbers are moved around,\n",
      "# no temporary files are created, and no memory is allocated.\n",
      "# We're just recording the logical structure of the new Array.\n",
      "b01 = biggus.LinearMosaic([b0, b1], axis=0)\n",
      "print b01\n",
      "print size(b01)"
     ],
     "language": "python",
     "metadata": {},
     "outputs": []
    },
    {
     "cell_type": "code",
     "collapsed": false,
     "input": [
      "# Repeat our new time-series 100 times to show there aren't any\n",
      "# real size limits.\n",
      "very_big = biggus.LinearMosaic([b01] * 100, axis=0)\n",
      "print very_big\n",
      "print size(very_big)"
     ],
     "language": "python",
     "metadata": {},
     "outputs": []
    },
    {
     "cell_type": "code",
     "collapsed": false,
     "input": [
      "# We can also stack our arrays on top of each other to create\n",
      "# new dimensions...\n",
      "stack = biggus.ArrayStack(np.array([b0, b1]))\n",
      "print stack\n",
      "print size(stack)"
     ],
     "language": "python",
     "metadata": {},
     "outputs": []
    },
    {
     "cell_type": "code",
     "collapsed": false,
     "input": [
      "# As with concatenation, there are no limits on the size of a stack.\n",
      "# NB. This is now a stack of a concatenation of a concatenation!\n",
      "# There is also no limit to how complicated the structure\n",
      "# of an Array can be.\n",
      "very_very_big = biggus.ArrayStack(np.array([very_big] * 50))\n",
      "print very_big\n",
      "print size(very_very_big)"
     ],
     "language": "python",
     "metadata": {},
     "outputs": []
    },
    {
     "cell_type": "code",
     "collapsed": false,
     "input": [
      "# When we request some actual values biggus will map the request\n",
      "# to whichever underlying files are ultimately relevant.\n",
      "very_very_big[14, 1234567, 88, 99].ndarray()"
     ],
     "language": "python",
     "metadata": {},
     "outputs": []
    },
    {
     "cell_type": "heading",
     "level": 2,
     "metadata": {},
     "source": [
      "Lazy arithmetic"
     ]
    },
    {
     "cell_type": "code",
     "collapsed": false,
     "input": [
      "# This addition is lazy, so this is effectively instantaneous.\n",
      "# In other words, we have *not* just added several billion values\n",
      "# together. We have merely recorded the \"intention\" to do so.\n",
      "total = biggus.add(b0, b1)\n",
      "print total"
     ],
     "language": "python",
     "metadata": {},
     "outputs": []
    },
    {
     "cell_type": "code",
     "collapsed": false,
     "input": [
      "# The resulting values are only calculated when `ndarray()` is\n",
      "# called.\n",
      "# In this case, biggus only retrieves 5 values from each source variable\n",
      "# and adds them together to provide the 5 result values.\n",
      "total[400, 100, 100:105].ndarray()"
     ],
     "language": "python",
     "metadata": {},
     "outputs": []
    },
    {
     "cell_type": "code",
     "collapsed": false,
     "input": [
      "temp = total[:200]\n",
      "# These operations are also lazy, so as above, they are effectively\n",
      "# instantaneous.\n",
      "av = biggus.mean(temp, axis=0)\n",
      "sd = biggus.std(temp, axis=0)\n",
      "print sd"
     ],
     "language": "python",
     "metadata": {},
     "outputs": []
    },
    {
     "cell_type": "code",
     "collapsed": false,
     "input": [
      "# This is the point at which the actual computation is performed.\n",
      "# NB. Both statistics are evaluated in parallel, in a single pass\n",
      "# of the source data. This halves the amount of data that needs to\n",
      "# be read from disk, as compared to a naive implementation.\n",
      "biggus.ndarrays([av, sd])"
     ],
     "language": "python",
     "metadata": {},
     "outputs": []
    },
    {
     "cell_type": "code",
     "collapsed": false,
     "input": [],
     "language": "python",
     "metadata": {},
     "outputs": []
    }
   ],
   "metadata": {}
  }
 ]
}